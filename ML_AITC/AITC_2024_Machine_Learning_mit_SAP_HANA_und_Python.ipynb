{
 "cells": [
  {
   "cell_type": "markdown",
   "metadata": {
    "id": "Wf5KrEb6vrkR"
   },
   "source": [
    "# Datenvisualisierung und Exploration\n",
    "\n",
    "- DatasetReportBuilder\n",
    "\n"
   ]
  },
  {
   "cell_type": "markdown",
   "metadata": {
    "id": "MExvbm23fsAR"
   },
   "source": [
    "Installation der notwendigen Bibliothen"
   ]
  },
  {
   "cell_type": "code",
   "execution_count": null,
   "metadata": {
    "colab": {
     "base_uri": "https://localhost:8080/"
    },
    "id": "zwFnJsE6vjf8",
    "outputId": "8ad07f9a-0790-4ea2-eb7a-af37a94d8496"
   },
   "outputs": [],
   "source": [
    "pip install hana-ml"
   ]
  },
  {
   "cell_type": "code",
   "execution_count": null,
   "metadata": {
    "id": "qypw9lXQJNPF"
   },
   "outputs": [],
   "source": [
    "from hana_ml import dataframe\n",
    "\n",
    "connection = dataframe.ConnectionContext( address = '<Hostname>',\n",
    "                                         port = '30015',\n",
    "                                          user = '<User>'\n",
    "                                           )"
   ]
  },
  {
   "cell_type": "code",
   "execution_count": null,
   "metadata": {
    "id": "40O4e_A2J_Cn"
   },
   "outputs": [],
   "source": [
    "connection.hana_version()"
   ]
  },
  {
   "cell_type": "markdown",
   "metadata": {
    "id": "1YOAP12kf_d5"
   },
   "source": [
    "## Erstellen eines HANA Dataframes.\n",
    "- Quelltable: CHURN (enthält Informationen über Kunden)"
   ]
  },
  {
   "cell_type": "code",
   "execution_count": null,
   "metadata": {
    "id": "I0BwiYe0KEni"
   },
   "outputs": [],
   "source": [
    "df_churn = connection.table( table = 'CHURN', schema = 'ML_DATA')"
   ]
  },
  {
   "cell_type": "code",
   "execution_count": null,
   "metadata": {
    "id": "i20uzbL9Kbqe"
   },
   "outputs": [],
   "source": [
    "df_churn.head(10).collect()"
   ]
  },
  {
   "cell_type": "markdown",
   "metadata": {
    "id": "g1l91SCHgKgq"
   },
   "source": [
    "Verständnisfragen:\n",
    "\n",
    "- Was ist der Unterschied zwischen HANA-Dataframe und Panadas-Dataframe?\n",
    "- Was bewirkt der Befehl ``collect()``?"
   ]
  },
  {
   "cell_type": "markdown",
   "metadata": {
    "id": "3ge-YK_ymo58"
   },
   "source": [
    "## Dataset Report"
   ]
  },
  {
   "cell_type": "code",
   "execution_count": null,
   "metadata": {
    "collapsed": true,
    "id": "pDMPfrt1KtZe",
    "jupyter": {
     "outputs_hidden": true
    }
   },
   "outputs": [],
   "source": [
    "from hana_ml.visualizers.dataset_report import DatasetReportBuilder\n",
    "\n",
    "datasetReportBuilder = DatasetReportBuilder()\n",
    "datasetReportBuilder.build( df_churn.cast('EXITED','NVARCHAR(1)'), key = 'CUSTOMERID')\n",
    "# Ausgabe in HTML-Datei:\n",
    "#datasetReportBuilder.generate_html_report('Report.html')\n",
    "datasetReportBuilder.generate_notebook_iframe_report()"
   ]
  },
  {
   "cell_type": "markdown",
   "metadata": {
    "id": "htxrWAivgsuS"
   },
   "source": [
    "Verständnisfragen:\n",
    "\n",
    "- Welche Informationen stellt der Dataset-Report bereit?\n",
    "- Wie werden numerische Variablen visualisiert, wie werden kategoriale Variablen visualisiert?\n",
    "- Welche Auffälligkeiten gibt es in der Datenmenge?"
   ]
  },
  {
   "cell_type": "markdown",
   "metadata": {
    "id": "oRA8s8CKhL-U"
   },
   "source": [
    "# Cluster-Analysen\n",
    "- Ausführung des K-Means-Algorithmus\n",
    "- Interpretation der Ergebnisse"
   ]
  },
  {
   "cell_type": "markdown",
   "metadata": {
    "id": "MUcTNcSrid4K"
   },
   "source": [
    "## Ausführung des K-Means-Algorithmus"
   ]
  },
  {
   "cell_type": "markdown",
   "metadata": {
    "id": "JoKsCGBfhncf"
   },
   "source": [
    "Filtern der Grundmenge (Tabelle CHURN) auf Kunden mit ``BALANCE > 0``.\n",
    "Selektion der Spalten für die Cluster-Analyse"
   ]
  },
  {
   "cell_type": "code",
   "execution_count": null,
   "metadata": {
    "id": "HjqTxvNVhhIT"
   },
   "outputs": [],
   "source": [
    "df_churn_subset = df_churn.filter('BALANCE > 0').select(['CUSTOMERID','AGE',\n",
    "                                                             'BALANCE',\n",
    "                                                             'ESTIMATEDSALARY',\n",
    "                                                             'TENURE',\n",
    "                                                             'GEOGRAPHY',\n",
    "                                                             'CREDITSCORE',\n",
    "                                                             'NUMOFPRODUCTS'])"
   ]
  },
  {
   "cell_type": "code",
   "execution_count": null,
   "metadata": {
    "id": "tli-_Y9KhSS0"
   },
   "outputs": [],
   "source": [
    "# Clustering mit K-Means\n",
    "from hana_ml.algorithms.pal.clustering import KMeans\n",
    "\n",
    "kmeans = KMeans( n_clusters_min = 4,\n",
    "                 n_clusters_max = 10,\n",
    "                 init = 'first_k',\n",
    "                 max_iter = 100,\n",
    "                 distance_level = 'Euclidean',\n",
    "                 accelerated = True,\n",
    "                 category_weights = 0.5,\n",
    "                 # normalization = 'min_max'\n",
    "                  )\n",
    "\n",
    "df_kmeans_assignment = kmeans.fit_predict(\n",
    "                                          data = df_churn_subset,\n",
    "                                          key = 'CUSTOMERID' )\n",
    "# Cluster.Zuweisung ausgeben\n",
    "df_kmeans_assignment.head(10).collect()"
   ]
  },
  {
   "cell_type": "code",
   "execution_count": null,
   "metadata": {
    "id": "r8zhTAIrjSI8"
   },
   "outputs": [],
   "source": [
    "# Clusterzentren ausgeben\n",
    "kmeans.cluster_centers_.collect()\n"
   ]
  },
  {
   "cell_type": "markdown",
   "metadata": {
    "id": "RPvJS3SHjj9H"
   },
   "source": [
    "## Interpretation der Ergebnisse"
   ]
  },
  {
   "cell_type": "markdown",
   "metadata": {
    "id": "EhTSq0Okjvj_"
   },
   "source": [
    "## Verknüpfen der Clusterzuweisung und Quellsätze\n",
    "- Join zwischen Eingabedaten und Clusterzuweisung\n",
    "- Auswertung der Attribute nach Cluster mit Boxplot\n",
    "- Ausgabe eines Streudiagramms"
   ]
  },
  {
   "cell_type": "code",
   "execution_count": null,
   "metadata": {
    "id": "BS8oydYpjq3_"
   },
   "outputs": [],
   "source": [
    "# Join zwischen Cluster-Zuweisung und Original-Daten\n",
    "df_cluster_1 = df_kmeans_assignment.rename_columns({'CUSTOMERID' : 'CL_CUSTID'})\n",
    "\n",
    "df_cust_w_cluster = df_churn_subset.alias('CUST').join(\n",
    "                                          other = df_cluster_1.alias('CLST'),\n",
    "                                          condition = 'CUSTOMERID = CL_CUSTID' )\n",
    "\n",
    "# Entferne überflüssige Spalte CL_CUSTID\n",
    "df_cust_w_cluster = df_cust_w_cluster.drop('CL_CUSTID')\n",
    "df_cust_w_cluster.head(10).collect()"
   ]
  },
  {
   "cell_type": "code",
   "execution_count": null,
   "metadata": {
    "id": "svUotOGPkQ-Q"
   },
   "outputs": [],
   "source": [
    "# Box plot nach Cluster\n",
    "from hana_ml.visualizers.eda import EDAVisualizer\n",
    "import matplotlib.pyplot as plt\n",
    "\n",
    "f = plt.figure(figsize=(18,6))\n",
    "\n",
    "ax1 = f.add_subplot(121)\n",
    "eda = EDAVisualizer(ax1)\n",
    "\n",
    "\n",
    "ax, bar_data = eda.box_plot(data= df_cust_w_cluster,\n",
    "    column = 'ESTIMATEDSALARY',\n",
    "    groupby = 'CLUSTER_ID',\n",
    "    outliers = True )"
   ]
  },
  {
   "cell_type": "code",
   "execution_count": null,
   "metadata": {
    "id": "eELZWkK3uqOs"
   },
   "outputs": [],
   "source": [
    "import plotly.express as px\n",
    "\n",
    "l_pd_frame = df_cust_w_cluster.collect()\n",
    "\n",
    "l_pd_frame[\"CLUSTER_ID_CAT\"] = l_pd_frame[\"CLUSTER_ID\"].astype('category')\n",
    "\n",
    "\n",
    "fig = px.scatter(l_pd_frame,         x = \"BALANCE\",\n",
    "                                     y = \"ESTIMATEDSALARY\",\n",
    "                                     color = \"CLUSTER_ID_CAT\",\n",
    "                                     hover_data  = ['CUSTOMERID','GEOGRAPHY','AGE'] )\n",
    "fig.show()"
   ]
  }
 ],
 "metadata": {
  "colab": {
   "provenance": []
  },
  "kernelspec": {
   "display_name": "Python 3 (ipykernel)",
   "language": "python",
   "name": "python3"
  },
  "language_info": {
   "codemirror_mode": {
    "name": "ipython",
    "version": 3
   },
   "file_extension": ".py",
   "mimetype": "text/x-python",
   "name": "python",
   "nbconvert_exporter": "python",
   "pygments_lexer": "ipython3",
   "version": "3.11.4"
  }
 },
 "nbformat": 4,
 "nbformat_minor": 4
}
